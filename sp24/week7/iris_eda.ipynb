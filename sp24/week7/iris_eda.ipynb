{
  "nbformat": 4,
  "nbformat_minor": 0,
  "metadata": {
    "colab": {
      "provenance": []
    },
    "kernelspec": {
      "name": "python3",
      "display_name": "Python 3"
    },
    "language_info": {
      "name": "python"
    }
  },
  "cells": [
    {
      "cell_type": "code",
      "execution_count": null,
      "metadata": {
        "id": "JPqUnII0BCj0"
      },
      "outputs": [],
      "source": [
        "import pandas as pd\n",
        "import numpy as np\n",
        "import matplotlib.pyplot as plt\n",
        "import seaborn as sns\n",
        "from sklearn import metrics, datasets, decomposition, preprocessing\n",
        "sns.set()"
      ]
    },
    {
      "cell_type": "code",
      "source": [
        "iris = datasets.load_iris(as_frame=True)\n",
        "iris"
      ],
      "metadata": {
        "id": "eV_kWOszBKSU"
      },
      "execution_count": null,
      "outputs": []
    },
    {
      "cell_type": "code",
      "source": [
        "iris.keys()"
      ],
      "metadata": {
        "id": "DjmEDXYFCChj"
      },
      "execution_count": null,
      "outputs": []
    },
    {
      "cell_type": "code",
      "source": [
        "iris.DESCR"
      ],
      "metadata": {
        "id": "Ts2ZC0-O58K3"
      },
      "execution_count": null,
      "outputs": []
    },
    {
      "cell_type": "code",
      "source": [
        "iris[\"target\"], iris[\"target_names\"]"
      ],
      "metadata": {
        "id": "VU5z_yBnCZep"
      },
      "execution_count": null,
      "outputs": []
    },
    {
      "cell_type": "code",
      "source": [
        "iris_data = iris[\"data\"]\n",
        "iris_data"
      ],
      "metadata": {
        "id": "mRPI5ms_BZfi"
      },
      "execution_count": null,
      "outputs": []
    },
    {
      "cell_type": "code",
      "source": [
        "iris_data[\"species\"] = [iris[\"target_names\"][sp] for sp in iris[\"target\"]]\n",
        "iris_data"
      ],
      "metadata": {
        "id": "_d1b24xWCp2-"
      },
      "execution_count": null,
      "outputs": []
    },
    {
      "cell_type": "code",
      "source": [
        "# Size and missingness\n",
        "iris_data.info()"
      ],
      "metadata": {
        "id": "lQUzzNopDxua"
      },
      "execution_count": null,
      "outputs": []
    },
    {
      "cell_type": "code",
      "source": [
        "# Central Tendency, Variability\n",
        "iris_data.describe()"
      ],
      "metadata": {
        "id": "QLY0ZN1OB-cw"
      },
      "execution_count": null,
      "outputs": []
    },
    {
      "cell_type": "code",
      "source": [
        "iris_data[\"species\"].value_counts()"
      ],
      "metadata": {
        "id": "ktpBe-rMCQdi"
      },
      "execution_count": null,
      "outputs": []
    },
    {
      "cell_type": "code",
      "source": [
        "iris_data.groupby(\"species\").agg([\"mean\", \"median\", \"std\"])"
      ],
      "metadata": {
        "id": "p47l121kJNvT"
      },
      "execution_count": null,
      "outputs": []
    },
    {
      "cell_type": "code",
      "source": [
        "iris_data[iris_data.duplicated()]"
      ],
      "metadata": {
        "id": "D96-PYV8Dlix"
      },
      "execution_count": null,
      "outputs": []
    },
    {
      "cell_type": "code",
      "source": [
        "# Univariate analysis\n",
        "fig, axes = plt.subplots(2, 2, figsize=(16,9))\n",
        "for i in range(2):\n",
        "  for j in range(2):\n",
        "    sns.boxplot(y=iris[\"feature_names\"][2 * i + j], x=\"species\", data=iris_data, orient=\"v\", ax=axes[i, j], palette=\"viridis\")\n",
        "plt.show()"
      ],
      "metadata": {
        "id": "_241wBaBEWQx"
      },
      "execution_count": null,
      "outputs": []
    },
    {
      "cell_type": "code",
      "source": [
        "# Bivariate analysis, Distribution of variables, Variability\n",
        "\n",
        "sns.pairplot(iris_data, hue=\"species\", palette=\"viridis\", height=4)"
      ],
      "metadata": {
        "id": "gtNZNeEYEjAe"
      },
      "execution_count": null,
      "outputs": []
    },
    {
      "cell_type": "code",
      "source": [
        "sns.pairplot(iris_data, hue=\"species\", height=4)"
      ],
      "metadata": {
        "id": "15oCQxOaF10v"
      },
      "execution_count": null,
      "outputs": []
    },
    {
      "cell_type": "code",
      "source": [
        "plt.figure(figsize=(10,11))\n",
        "sns.heatmap(iris_data.corr(), annot=True, cmap=\"viridis\")\n",
        "plt.plot()"
      ],
      "metadata": {
        "id": "TrK5zADJEnCM"
      },
      "execution_count": null,
      "outputs": []
    },
    {
      "cell_type": "code",
      "source": [
        "plt.figure(figsize=(10,11))\n",
        "sns.heatmap(iris_data.corr(), annot=True)\n",
        "plt.plot()"
      ],
      "metadata": {
        "id": "UItvuvKVGHGY"
      },
      "execution_count": null,
      "outputs": []
    },
    {
      "cell_type": "code",
      "source": [
        "pca = decomposition.PCA(n_components=2)\n",
        "\n",
        "# scaler = preprocessing.StandardScaler()\n",
        "# data = scaler.fit_transform(iris_data[iris[\"feature_names\"]])\n",
        "\n",
        "pc = pca.fit_transform(iris_data[iris[\"feature_names\"]])\n",
        "pc_df = pd.DataFrame(data = pc, columns = ['PC1', 'PC2'])\n",
        "pc_df[\"species\"] = iris_data[\"species\"]\n",
        "pc_df"
      ],
      "metadata": {
        "id": "oDoqP2TCGWEI"
      },
      "execution_count": null,
      "outputs": []
    },
    {
      "cell_type": "code",
      "source": [
        "sns.lmplot(x=\"PC1\", y=\"PC2\",\n",
        "  data=pc_df,\n",
        "  fit_reg=False,\n",
        "  hue='species', # color by cluster\n",
        "  legend=True,\n",
        "  scatter_kws={\"s\": 80}) # specify the point size"
      ],
      "metadata": {
        "id": "VOB28Y9jLW1d"
      },
      "execution_count": null,
      "outputs": []
    },
    {
      "cell_type": "code",
      "source": [],
      "metadata": {
        "id": "z9j0tJYML0MN"
      },
      "execution_count": null,
      "outputs": []
    }
  ]
}