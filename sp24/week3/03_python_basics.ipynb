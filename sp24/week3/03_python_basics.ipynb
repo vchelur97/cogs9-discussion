{
  "nbformat": 4,
  "nbformat_minor": 0,
  "metadata": {
    "colab": {
      "provenance": []
    },
    "kernelspec": {
      "name": "python3",
      "display_name": "Python 3"
    },
    "language_info": {
      "name": "python"
    }
  },
  "cells": [
    {
      "cell_type": "code",
      "execution_count": null,
      "metadata": {
        "id": "Qpv0StAtUYhN",
        "colab": {
          "base_uri": "https://localhost:8080/"
        },
        "outputId": "319c488d-7f2c-4844-fd3e-dc99ca4d5065"
      },
      "outputs": [
        {
          "output_type": "stream",
          "name": "stdout",
          "text": [
            "Hello world!\n"
          ]
        }
      ],
      "source": [
        "print(\"Hello world!\") # Prints whatever data you give it"
      ]
    },
    {
      "cell_type": "code",
      "source": [
        "# Different data types and variable assignments\n",
        "a = 10 # Integer\n",
        "b = 4.5 # Float\n",
        "c = \"hello\" # String\n",
        "d = [a, b, c] # List\n",
        "e = {\"integer\": a, \"float\": b, \"string\": c} # Map\n",
        "f = True # Boolean"
      ],
      "metadata": {
        "id": "qsC6VC7WUevS"
      },
      "execution_count": null,
      "outputs": []
    },
    {
      "cell_type": "code",
      "source": [
        "print(a)\n",
        "print(b)\n",
        "print(c)\n",
        "print(d)\n",
        "print(e)\n",
        "print(f)"
      ],
      "metadata": {
        "id": "go1GQ3kuVQ-M",
        "colab": {
          "base_uri": "https://localhost:8080/"
        },
        "outputId": "413ff8d5-49cf-4f0b-f6c5-cd6ba62a058a"
      },
      "execution_count": null,
      "outputs": [
        {
          "output_type": "stream",
          "name": "stdout",
          "text": [
            "10\n",
            "4.5\n",
            "hello\n",
            "[10, 4.5, 'hello']\n",
            "{'integer': 10, 'float': 4.5, 'string': 'hello'}\n",
            "True\n"
          ]
        }
      ]
    },
    {
      "cell_type": "code",
      "source": [
        "# List\n",
        "d[0] = f # d[0] accesses the 1st element in d\n",
        "print(d[0])\n",
        "print(d[1])\n",
        "print(d[2])\n",
        "print(d[-1], d[-2], d[-3])"
      ],
      "metadata": {
        "id": "SoOzSGo6U6q9",
        "colab": {
          "base_uri": "https://localhost:8080/"
        },
        "outputId": "0f831bc5-c4f6-4ef8-e8e3-b76823ea8612"
      },
      "execution_count": null,
      "outputs": [
        {
          "output_type": "stream",
          "name": "stdout",
          "text": [
            "True\n",
            "4.5\n",
            "hello\n",
            "hello 4.5 True\n"
          ]
        }
      ]
    },
    {
      "cell_type": "code",
      "source": [
        "# Basic math operations\n",
        "print(a < b)\n",
        "print(a + b)\n",
        "print(b - a)\n",
        "print(b * a)\n",
        "print(a / b)\n",
        "print(a // b)"
      ],
      "metadata": {
        "id": "a7IvPq_DVsyH",
        "colab": {
          "base_uri": "https://localhost:8080/"
        },
        "outputId": "450f2eed-de90-4281-eb48-3a008e7ec6c5"
      },
      "execution_count": null,
      "outputs": [
        {
          "output_type": "stream",
          "name": "stdout",
          "text": [
            "False\n",
            "14.5\n",
            "-5.5\n",
            "45.0\n",
            "2.2222222222222223\n",
            "2.0\n"
          ]
        }
      ]
    },
    {
      "cell_type": "code",
      "source": [
        "# Conditional statements\n",
        "a = 10\n",
        "if a > b:\n",
        "    print(a, \"is greater than\", b)\n",
        "else:\n",
        "    print(a, \"is lesser than\", b)"
      ],
      "metadata": {
        "id": "VZGuXU71V9Nb",
        "colab": {
          "base_uri": "https://localhost:8080/"
        },
        "outputId": "16b86a91-663f-42cb-c137-1965cf52dd37"
      },
      "execution_count": null,
      "outputs": [
        {
          "output_type": "stream",
          "name": "stdout",
          "text": [
            "10 is greater than 4.5\n"
          ]
        }
      ]
    },
    {
      "cell_type": "code",
      "source": [
        "# Functions\n",
        "def compare_numbers(num1, num2):\n",
        "    if num1 > num2:\n",
        "        print(num1, \"is greater than\", num2)\n",
        "    elif num1 == num2:\n",
        "        print(num1, \"is equal to\", num2)\n",
        "    else:\n",
        "        print(num1, \"is lesser than\", num2)"
      ],
      "metadata": {
        "id": "8cmMOVzuWEDQ"
      },
      "execution_count": null,
      "outputs": []
    },
    {
      "cell_type": "code",
      "source": [
        "compare_numbers(a, b)"
      ],
      "metadata": {
        "id": "n_PsGqRTWi2m",
        "colab": {
          "base_uri": "https://localhost:8080/"
        },
        "outputId": "ae25faa0-bcb2-4563-dd68-cd46d9852fcf"
      },
      "execution_count": null,
      "outputs": [
        {
          "output_type": "stream",
          "name": "stdout",
          "text": [
            "10 is greater than 4.5\n"
          ]
        }
      ]
    },
    {
      "cell_type": "code",
      "source": [
        "compare_numbers(4.0, 4)"
      ],
      "metadata": {
        "id": "uS4GFwF1WlAn",
        "colab": {
          "base_uri": "https://localhost:8080/"
        },
        "outputId": "3fb5a76d-1062-4d3c-daf8-37060bf89882"
      },
      "execution_count": null,
      "outputs": [
        {
          "output_type": "stream",
          "name": "stdout",
          "text": [
            "4.0 is equal to 4\n"
          ]
        }
      ]
    },
    {
      "cell_type": "code",
      "source": [
        "compare_numbers(3, 9)"
      ],
      "metadata": {
        "id": "2IEKFScHWpf8",
        "colab": {
          "base_uri": "https://localhost:8080/"
        },
        "outputId": "d37a56e2-97f1-4ddc-e3eb-74086bf7ec16"
      },
      "execution_count": null,
      "outputs": [
        {
          "output_type": "stream",
          "name": "stdout",
          "text": [
            "3 is lesser than 9\n"
          ]
        }
      ]
    },
    {
      "cell_type": "code",
      "source": [
        "# Looping over a range of numbers\n",
        "for i in range(1, 6):\n",
        "    print(i)"
      ],
      "metadata": {
        "id": "-N4rLxNBW7Ah",
        "colab": {
          "base_uri": "https://localhost:8080/"
        },
        "outputId": "ba185fd6-1971-463f-a6ea-f4dd0f619d87"
      },
      "execution_count": null,
      "outputs": [
        {
          "output_type": "stream",
          "name": "stdout",
          "text": [
            "1\n",
            "2\n",
            "3\n",
            "4\n",
            "5\n"
          ]
        }
      ]
    },
    {
      "cell_type": "code",
      "source": [
        "# Looping over a list\n",
        "for element in d:\n",
        "    print(element)"
      ],
      "metadata": {
        "id": "KcGguApgXGh3",
        "colab": {
          "base_uri": "https://localhost:8080/"
        },
        "outputId": "a76cc792-7e8a-47f8-82d3-768a6ba6d8ee"
      },
      "execution_count": null,
      "outputs": [
        {
          "output_type": "stream",
          "name": "stdout",
          "text": [
            "True\n",
            "4.5\n",
            "hello\n"
          ]
        }
      ]
    },
    {
      "cell_type": "code",
      "source": [
        "for i in range(len(d)):\n",
        "    print(d[i])"
      ],
      "metadata": {
        "id": "mzHAGDiK98cj",
        "colab": {
          "base_uri": "https://localhost:8080/"
        },
        "outputId": "0a96a976-dc84-4fd6-f65d-cc3b8c730f33"
      },
      "execution_count": null,
      "outputs": [
        {
          "output_type": "stream",
          "name": "stdout",
          "text": [
            "True\n",
            "4.5\n",
            "hello\n"
          ]
        }
      ]
    },
    {
      "cell_type": "code",
      "source": [
        "# Looping over a dictionary\n",
        "for key in e:\n",
        "    print(key, e[key])"
      ],
      "metadata": {
        "id": "n3AfW6n2XPNv",
        "colab": {
          "base_uri": "https://localhost:8080/"
        },
        "outputId": "b7c312b4-d2fc-4328-e905-1129076f8af1"
      },
      "execution_count": null,
      "outputs": [
        {
          "output_type": "stream",
          "name": "stdout",
          "text": [
            "integer 10\n",
            "float 4.5\n",
            "string hello\n"
          ]
        }
      ]
    },
    {
      "cell_type": "code",
      "source": [
        "# While loop -> while <condition is satisfied> do something\n",
        "i = 1\n",
        "while i < 6:\n",
        "    print(i)\n",
        "    i = i + 1"
      ],
      "metadata": {
        "colab": {
          "base_uri": "https://localhost:8080/"
        },
        "id": "7_65iYs2-3Oc",
        "outputId": "07911dd8-f57a-40d6-8672-a733306e0931"
      },
      "execution_count": null,
      "outputs": [
        {
          "output_type": "stream",
          "name": "stdout",
          "text": [
            "1\n",
            "2\n",
            "3\n",
            "4\n",
            "5\n"
          ]
        }
      ]
    },
    {
      "cell_type": "code",
      "source": [
        "# Import a module (code written by other people)\n",
        "import numpy"
      ],
      "metadata": {
        "id": "MPSHRvdSXWFH"
      },
      "execution_count": null,
      "outputs": []
    },
    {
      "cell_type": "code",
      "source": [
        "# Use the functions written inside the module\n",
        "h = numpy.array(d) # https://numpy.org/doc/stable/reference/generated/numpy.array.html\n",
        "h"
      ],
      "metadata": {
        "id": "bAxC6LrXXc9o",
        "colab": {
          "base_uri": "https://localhost:8080/"
        },
        "outputId": "61c86b37-1cb1-4c88-b027-0b95909c96d9"
      },
      "execution_count": null,
      "outputs": [
        {
          "output_type": "execute_result",
          "data": {
            "text/plain": [
              "array(['True', '4.5', 'hello'], dtype='<U32')"
            ]
          },
          "metadata": {},
          "execution_count": 17
        }
      ]
    },
    {
      "cell_type": "code",
      "source": [
        "list(reversed(range(1, 11)))"
      ],
      "metadata": {
        "id": "ILuIpoBHXfmQ",
        "colab": {
          "base_uri": "https://localhost:8080/"
        },
        "outputId": "0384f272-e690-44ef-8031-3a94686ef63c"
      },
      "execution_count": null,
      "outputs": [
        {
          "output_type": "execute_result",
          "data": {
            "text/plain": [
              "[10, 9, 8, 7, 6, 5, 4, 3, 2, 1]"
            ]
          },
          "metadata": {},
          "execution_count": 18
        }
      ]
    },
    {
      "cell_type": "code",
      "source": [],
      "metadata": {
        "id": "HDXES-OimbVr"
      },
      "execution_count": null,
      "outputs": []
    }
  ]
}