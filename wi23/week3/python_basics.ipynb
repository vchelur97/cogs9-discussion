{
  "nbformat": 4,
  "nbformat_minor": 0,
  "metadata": {
    "colab": {
      "provenance": []
    },
    "kernelspec": {
      "name": "python3",
      "display_name": "Python 3"
    },
    "language_info": {
      "name": "python"
    }
  },
  "cells": [
    {
      "cell_type": "code",
      "execution_count": null,
      "metadata": {
        "id": "Qpv0StAtUYhN"
      },
      "outputs": [],
      "source": [
        "print(\"Hello world!\") # Prints whatever you send it"
      ]
    },
    {
      "cell_type": "code",
      "source": [
        "# Different data types and variable assignments\n",
        "a = 10 # Integer\n",
        "b = 4.5 # Float\n",
        "c = \"hello\" # String\n",
        "d = [a, b, c] # List\n",
        "e = (a, b, c) # Tuple\n",
        "f = {\"a\": a, \"b\": b, \"c\": c} # Map\n",
        "g = True # Bool"
      ],
      "metadata": {
        "id": "qsC6VC7WUevS"
      },
      "execution_count": null,
      "outputs": []
    },
    {
      "cell_type": "code",
      "source": [
        "print(a)\n",
        "print(b)\n",
        "print(c)\n",
        "print(d)\n",
        "print(e)\n",
        "print(f)\n",
        "print(g)"
      ],
      "metadata": {
        "id": "go1GQ3kuVQ-M"
      },
      "execution_count": null,
      "outputs": []
    },
    {
      "cell_type": "code",
      "source": [
        "# List\n",
        "d[0] = g # d[0] accesses the 1st element in d\n",
        "print(d)"
      ],
      "metadata": {
        "id": "SoOzSGo6U6q9"
      },
      "execution_count": null,
      "outputs": []
    },
    {
      "cell_type": "code",
      "source": [
        "# Tuple\n",
        "e[0] = g\n",
        "print(e)"
      ],
      "metadata": {
        "id": "HqcbUzilVY9W"
      },
      "execution_count": null,
      "outputs": []
    },
    {
      "cell_type": "code",
      "source": [
        "# Basic math operations\n",
        "print(a < b)\n",
        "print(a + b)\n",
        "print(b - a)\n",
        "print(b * a)\n",
        "print(a / b)\n",
        "print(a // b)"
      ],
      "metadata": {
        "id": "a7IvPq_DVsyH"
      },
      "execution_count": null,
      "outputs": []
    },
    {
      "cell_type": "code",
      "source": [
        "# Conditional statements\n",
        "if a > b:\n",
        "    print(a, \"is greater than\", b)\n",
        "else:\n",
        "    print(a, \"is lesser than\", b)"
      ],
      "metadata": {
        "id": "VZGuXU71V9Nb"
      },
      "execution_count": null,
      "outputs": []
    },
    {
      "cell_type": "code",
      "source": [
        "# Functions\n",
        "def compare_numbers(num1, num2):\n",
        "    if num1 > num2:\n",
        "        print(num1, \"is greater than\", num2)\n",
        "    elif num1 == num2:\n",
        "        print(num1, \"is equal to\", num2)\n",
        "    else:\n",
        "        print(num1, \"is lesser than\", num2)"
      ],
      "metadata": {
        "id": "8cmMOVzuWEDQ"
      },
      "execution_count": null,
      "outputs": []
    },
    {
      "cell_type": "code",
      "source": [
        "compare_numbers(a, b)"
      ],
      "metadata": {
        "id": "n_PsGqRTWi2m"
      },
      "execution_count": null,
      "outputs": []
    },
    {
      "cell_type": "code",
      "source": [
        "compare_numbers(4.0, 4)"
      ],
      "metadata": {
        "id": "uS4GFwF1WlAn"
      },
      "execution_count": null,
      "outputs": []
    },
    {
      "cell_type": "code",
      "source": [
        "compare_numbers(3, 9)"
      ],
      "metadata": {
        "id": "2IEKFScHWpf8"
      },
      "execution_count": null,
      "outputs": []
    },
    {
      "cell_type": "code",
      "source": [
        "# Looping over a range of numbers\n",
        "for i in range(1, 6):\n",
        "    print(i)"
      ],
      "metadata": {
        "id": "-N4rLxNBW7Ah"
      },
      "execution_count": null,
      "outputs": []
    },
    {
      "cell_type": "code",
      "source": [
        "# Looping over a list\n",
        "for element in d:\n",
        "    print(element)"
      ],
      "metadata": {
        "id": "KcGguApgXGh3"
      },
      "execution_count": null,
      "outputs": []
    },
    {
      "cell_type": "code",
      "source": [
        "# Looping over a dictionary\n",
        "for key in f:\n",
        "    print(key, f[key])"
      ],
      "metadata": {
        "id": "n3AfW6n2XPNv"
      },
      "execution_count": null,
      "outputs": []
    },
    {
      "cell_type": "code",
      "source": [
        "# Import a module (code written by other people)\n",
        "import numpy as np"
      ],
      "metadata": {
        "id": "MPSHRvdSXWFH"
      },
      "execution_count": null,
      "outputs": []
    },
    {
      "cell_type": "code",
      "source": [
        "# Use the functions written inside the module\n",
        "h = np.array(d) # https://numpy.org/doc/stable/reference/generated/numpy.array.html\n",
        "h"
      ],
      "metadata": {
        "id": "bAxC6LrXXc9o"
      },
      "execution_count": null,
      "outputs": []
    },
    {
      "cell_type": "code",
      "source": [],
      "metadata": {
        "id": "ILuIpoBHXfmQ"
      },
      "execution_count": null,
      "outputs": []
    }
  ]
}