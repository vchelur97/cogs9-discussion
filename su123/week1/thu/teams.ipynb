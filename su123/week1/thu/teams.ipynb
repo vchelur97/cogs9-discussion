{
  "cells": [
    {
      "cell_type": "code",
      "execution_count": null,
      "metadata": {
        "id": "jG1kLYSJ3AWx"
      },
      "outputs": [],
      "source": [
        "import pandas as pd\n",
        "import numpy as np"
      ]
    },
    {
      "cell_type": "code",
      "execution_count": null,
      "metadata": {
        "id": "cr5mSk163JQX"
      },
      "outputs": [],
      "source": [
        "# Fields available in student-lookup-data.csv\n",
        "# Sec ID,PID,Student,Email\n",
        "\n",
        "# Read a CSV file into a Pandas dataframe and use the provided columns\n",
        "df = pd.read_csv(\"./student-lookup-data.csv\", usecols=['Student'])\n",
        "# Check whether the email column is unique\n",
        "# df['Email'].is_unique"
      ]
    },
    {
      "cell_type": "code",
      "execution_count": null,
      "metadata": {
        "id": "GtRGO1_h0qrM"
      },
      "outputs": [],
      "source": [
        "# Lists out the dataframe\n",
        "df"
      ]
    },
    {
      "cell_type": "code",
      "execution_count": null,
      "metadata": {
        "id": "T-NcxSet4__o"
      },
      "outputs": [],
      "source": [
        "# Provides information about the dataframe\n",
        "df.info()"
      ]
    },
    {
      "cell_type": "code",
      "execution_count": null,
      "metadata": {
        "id": "tLEliM_T496k"
      },
      "outputs": [],
      "source": [
        "# The answer to the ultimate question of life, the universe, and everything.\n",
        "random_seed = 123"
      ]
    },
    {
      "cell_type": "code",
      "execution_count": null,
      "metadata": {
        "id": "KDpNENpj78Tx"
      },
      "outputs": [],
      "source": [
        "# Randomly shuffle our filtered dataframe with the provided random seed\n",
        "fdf = df.sample(frac=1, random_state=random_seed)"
      ]
    },
    {
      "cell_type": "code",
      "execution_count": null,
      "metadata": {
        "id": "IBjOXQFU8Bhc"
      },
      "outputs": [],
      "source": [
        "# Split up folks into groups of 4\n",
        "splits = np.array_split(fdf, 10)\n",
        "num_groups = len(splits)\n",
        "print(num_groups)"
      ]
    },
    {
      "cell_type": "code",
      "execution_count": null,
      "metadata": {
        "id": "gwYvdGwMUa5g"
      },
      "outputs": [],
      "source": [
        "team_names = [\"Algorithm Avengers\",\n",
        "              \"Dataset Dominators\",\n",
        "              \"Query Quirkies\",\n",
        "              \"Python Pioneers\",\n",
        "              \"Inferential Insiders\",\n",
        "              \"Model Mystics\",\n",
        "              \"Statistical Sorcerers\",\n",
        "              \"Outlier Outlaws\",\n",
        "              \"Regression Rangers\",\n",
        "              \"Correlation Cavaliers\"]"
      ]
    },
    {
      "cell_type": "code",
      "execution_count": null,
      "metadata": {
        "id": "MHV9jmHm8RlW"
      },
      "outputs": [],
      "source": [
        "for group_no in range(num_groups):\n",
        "    splits[group_no][\"Team Name\"] = team_names[group_no]\n",
        "    splits[group_no][[\"Team Name\", \"Student\"]].to_csv(\"teams.csv\", mode=\"a\", index=False, header=False)"
      ]
    },
    {
      "cell_type": "code",
      "execution_count": null,
      "metadata": {
        "id": "LokTrG9iy-na"
      },
      "outputs": [],
      "source": []
    }
  ],
  "metadata": {
    "colab": {
      "provenance": []
    },
    "kernelspec": {
      "display_name": "Python 3",
      "name": "python3"
    },
    "language_info": {
      "name": "python"
    }
  },
  "nbformat": 4,
  "nbformat_minor": 0
}
