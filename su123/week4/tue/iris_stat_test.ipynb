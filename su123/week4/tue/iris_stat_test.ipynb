{
  "cells": [
    {
      "cell_type": "code",
      "execution_count": null,
      "metadata": {
        "id": "uKSKvcV9PJ4E"
      },
      "outputs": [],
      "source": [
        "import pandas as pd\n",
        "import numpy as np\n",
        "import matplotlib.pyplot as plt\n",
        "import seaborn as sns\n",
        "from sklearn import metrics, datasets, decomposition, preprocessing\n",
        "from scipy.stats import ttest_ind, pearsonr, spearmanr\n",
        "sns.set()\n",
        "rng = np.random.default_rng()"
      ]
    },
    {
      "cell_type": "code",
      "execution_count": null,
      "metadata": {
        "id": "hXjL5lFCPzkG"
      },
      "outputs": [],
      "source": [
        "iris = datasets.load_iris(as_frame=True)\n",
        "iris_data = iris[\"data\"]\n",
        "iris_data[\"species\"] = [iris[\"target_names\"][sp] for sp in iris[\"target\"]]\n",
        "iris_data"
      ]
    },
    {
      "cell_type": "code",
      "execution_count": null,
      "metadata": {
        "id": "HqgVCqztUXRZ"
      },
      "outputs": [],
      "source": [
        "virginica_pl = iris_data[\"petal length (cm)\"][iris_data[\"species\"] == \"virginica\"].to_numpy()\n",
        "versicolor_pl = iris_data[\"petal length (cm)\"][iris_data[\"species\"] == \"versicolor\"].to_numpy()\n",
        "\n",
        "virginica_sw = iris_data[\"sepal width (cm)\"][iris_data[\"species\"] == \"virginica\"].to_numpy()\n",
        "versicolor_sw = iris_data[\"sepal width (cm)\"][iris_data[\"species\"] == \"versicolor\"].to_numpy()"
      ]
    },
    {
      "cell_type": "code",
      "execution_count": null,
      "metadata": {
        "id": "ihmpKrUUP4oe"
      },
      "outputs": [],
      "source": [
        "# Note that we should not try to calculate the pearson and spearman correlation for the above data because we are comparing the same variable between two different groups.\n",
        "# We should instead compare the petal length of the virginica and versicolor species to the sepal width of the virginica and versicolor species.\n",
        "# We are doing this only for the sake of the exercise.\n",
        "\n",
        "print(pearsonr(virginica_pl, versicolor_pl))\n",
        "print(spearmanr(virginica_pl, versicolor_pl))\n",
        "print(ttest_ind(virginica_pl, versicolor_pl))\n",
        "print()\n",
        "print(pearsonr(virginica_sw, versicolor_sw))\n",
        "print(spearmanr(virginica_sw, versicolor_sw))\n",
        "print(ttest_ind(virginica_sw, versicolor_sw))"
      ]
    },
    {
      "cell_type": "code",
      "execution_count": null,
      "metadata": {
        "id": "DH8YaQbMYyc8"
      },
      "outputs": [],
      "source": []
    },
    {
      "cell_type": "code",
      "execution_count": null,
      "metadata": {
        "id": "gqGk4X8sY7rd"
      },
      "outputs": [],
      "source": []
    },
    {
      "cell_type": "code",
      "execution_count": null,
      "metadata": {
        "id": "9SG5i9ejY8mI"
      },
      "outputs": [],
      "source": []
    },
    {
      "cell_type": "code",
      "execution_count": null,
      "metadata": {
        "id": "HJLEpl2NY87H"
      },
      "outputs": [],
      "source": []
    },
    {
      "cell_type": "code",
      "execution_count": null,
      "metadata": {
        "id": "II9EINrPY9n8"
      },
      "outputs": [],
      "source": []
    },
    {
      "cell_type": "code",
      "execution_count": null,
      "metadata": {
        "id": "t2-FqQuaYFDJ"
      },
      "outputs": [],
      "source": [
        "virginica_pl = np.sort(virginica_pl)\n",
        "versicolor_pl = np.sort(versicolor_pl)\n",
        "\n",
        "virginica_sw = np.sort(virginica_sw)\n",
        "versicolor_sw = np.sort(versicolor_sw)"
      ]
    },
    {
      "cell_type": "code",
      "execution_count": null,
      "metadata": {
        "id": "ETsxiUPGYx7_"
      },
      "outputs": [],
      "source": [
        "print(pearsonr(virginica_pl, versicolor_pl))\n",
        "print(spearmanr(virginica_pl, versicolor_pl))\n",
        "print(ttest_ind(virginica_pl, versicolor_pl))\n",
        "print()\n",
        "print(pearsonr(virginica_sw, versicolor_sw))\n",
        "print(spearmanr(virginica_sw, versicolor_sw))\n",
        "print(ttest_ind(virginica_sw, versicolor_sw))"
      ]
    },
    {
      "cell_type": "code",
      "execution_count": null,
      "metadata": {
        "id": "teP-J3szY-5U"
      },
      "outputs": [],
      "source": [
        "# Linear regression\n"
      ]
    }
  ],
  "metadata": {
    "colab": {
      "provenance": []
    },
    "kernelspec": {
      "display_name": "Python 3.8.10 64-bit",
      "language": "python",
      "name": "python3"
    },
    "language_info": {
      "name": "python",
      "version": "3.8.10"
    },
    "vscode": {
      "interpreter": {
        "hash": "1fff053b17bad803c71468ed516110e592ac463b48b66657098e3587acfee8f8"
      }
    }
  },
  "nbformat": 4,
  "nbformat_minor": 0
}